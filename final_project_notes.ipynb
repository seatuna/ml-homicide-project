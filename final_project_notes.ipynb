{
 "cells": [
  {
   "cell_type": "markdown",
   "metadata": {},
   "source": [
    "# Notes while working on Grad Project"
   ]
  },
  {
   "cell_type": "markdown",
   "metadata": {},
   "source": [
    "- Column 16 (Perpetrator Age) had 1 entry that was a string with an empty space inside, caused a warning to show up and that column's dtype was coerced to object instead of int.\n",
    "- Victim Age column contains 0's, not sure if that means the victim was a baby under 1 years old or if the data was unknown.\n",
    "- Converted Perpetrator Age column to integers since they contained mixed type\n",
    "- Relationship = relationship of victim to the perpetrator (ex. if \"son\", victim is the son of the perpetrator)\n",
    "- Victim age contains 0, decided to keep these rows since there is a possibility that these are babies under 1 year old\n",
    "- Columns dropped because they are not necessary for this analysis: record id, agency info, month, crime solved, victim count, perpetrator count, source columns\n",
    "- Other columns dropped: Incident (no information available on what this data is)\n",
    "- A LOT of Unknown values, which makes sense since about 30% of the dataset is unsolved so the perpetrator columns are unknown. In addition to that, categories like victim race is tricky if the victim is unidentified with no way of confirming their race.  The ethnicity column is kind of awkward, the only values are \"hispanic\" and \"not hispanic\" which\n",
    "- Separate to solved and unsolved, solved cases will be used for training and testing\n",
    "- Most of the data is categorical, need to encode\n",
    "- Age should probably be encoded?\n",
    "\n",
    "Data fed into the KNN algorithm:\n",
    "- Data = victim age, sex, ethnicity, weapon\n",
    "- Labels to predict = perpetrator age, sex, ethnicity, relationship\n",
    "\n",
    "-Poor results, 13.4% regardless of whether or not age was encoded\n",
    "-Increasing k made performance worse"
   ]
  },
  {
   "cell_type": "markdown",
   "metadata": {},
   "source": [
    "# References"
   ]
  },
  {
   "cell_type": "markdown",
   "metadata": {},
   "source": [
    "- For determining age groups: http://www.pgagroup.com/standardized-survey-classifications.html\n",
    "- Decided to use KNeighborsClassifier: https://stackoverflow.com/questions/31881138/predicting-outcome-of-multiple-targets-in-scikit-learn"
   ]
  }
 ],
 "metadata": {
  "kernelspec": {
   "display_name": "Python 3",
   "language": "python",
   "name": "python3"
  },
  "language_info": {
   "codemirror_mode": {
    "name": "ipython",
    "version": 3
   },
   "file_extension": ".py",
   "mimetype": "text/x-python",
   "name": "python",
   "nbconvert_exporter": "python",
   "pygments_lexer": "ipython3",
   "version": "3.6.3"
  }
 },
 "nbformat": 4,
 "nbformat_minor": 2
}
